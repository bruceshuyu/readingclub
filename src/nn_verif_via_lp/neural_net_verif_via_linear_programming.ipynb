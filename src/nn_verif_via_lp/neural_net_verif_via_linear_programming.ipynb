{
 "cells": [
  {
   "cell_type": "markdown",
   "metadata": {},
   "source": [
    "# Verification of Neural Networks via Linear Programming\n",
    "<sup>author: [Daniel S. Fava](http://www.danielfava.com)</sup><br/>\n",
    "License: CC BY 4.0\n",
    "https://creativecommons.org/licenses/by/4.0/"
   ]
  },
  {
   "cell_type": "markdown",
   "metadata": {},
   "source": [
    "Below we explain how to check the robustness of a neural network and how to systematically create [adversarial examples](https://blog.openai.com/adversarial-example-research/) using linear programming.  An adversarial image is an image that is altered just enough for a neural network to misclassify it.  The original image and the altered (adversarial) one are indistinguishable to the human eye.\n",
    "\n",
    "The goal of the presentation below is to be simple yet precise.  It is meant to illustrate a technique rather than to provide a practical implementation.  We will proceed as follows:\n",
    "\n",
    "1. First, we define a training set of 2x2 images, then\n",
    "1. train a neural network with [ReLU](https://en.wikipedia.org/wiki/Rectifier_(neural_networks)) activation function,\n",
    "1. compute a logic formula in disjunctive-normal-form (DNF) that captures the behavior of the neural-network,\n",
    "1. pick an image that is correctly classified and then solve a system of linear equalities/inequalities for each clause of the DNF.  If the linear system has a solution, the solution will be an adversarial example.\n",
    "\n",
    "You can experiment with the source code (Python3 jupyter notebook) as you follow along."
   ]
  },
  {
   "cell_type": "code",
   "execution_count": 1,
   "metadata": {},
   "outputs": [],
   "source": [
    "from nn import get_layer_sizes\n",
    "from nn import draw_neural_net\n",
    "from nn import nn_to_formula_components\n",
    "from nn import formula_components_to_dnf\n",
    "import numpy as np\n",
    "import matplotlib\n",
    "import matplotlib.pyplot as plt\n",
    "from sklearn.neural_network import MLPClassifier # multi-layer perceptron (MLP)"
   ]
  },
  {
   "cell_type": "markdown",
   "metadata": {},
   "source": [
    "# Training the neural network\n",
    "\n",
    "### Defining a training set\n",
    "One way to make things simple is to have a simple domain and a small training set.  We pick 2x2 images in grayscale as the domain.  The 16 images below are the training set.  Images are labeled as 1 and highlighted in red when their bottom row contains only black pixels.  They are labeled as 0 otherwise."
   ]
  },
  {
   "cell_type": "code",
   "execution_count": 2,
   "metadata": {},
   "outputs": [
    {
     "name": "stdout",
     "output_type": "stream",
     "text": [
      "[1, 0, 0, 0, 1, 1, 1, 0, 0, 0, 0, 0, 0, 0, 0, 0]\n"
     ]
    },
    {
     "data": {
      "image/png": "[encoded data removed]",
      "text/plain": [
       "<Figure size 720x720 with 16 Axes>"
      ]
     },
     "metadata": {},
     "output_type": "display_data"
    }
   ],
   "source": [
    "# Training set\n",
    "X_img = [\n",
    "     [[0, 0],     [0, 0]],\n",
    "     [[255, 255], [255, 255]],\n",
    "     [[0, 0],     [0, 255]],\n",
    "     [[0, 0],     [255, 0]],\n",
    "     [[0, 255],   [0, 0]],\n",
    "     [[255, 0],   [0, 0]],\n",
    "     [[255, 255], [0, 0]],\n",
    "     [[255, 0],   [255, 0]],\n",
    "     [[255, 0],   [0, 255]],\n",
    "     [[0, 255],   [255,0]],\n",
    "     [[0, 255],   [0,255]],\n",
    "     [[0, 0],     [255,255]],\n",
    "     [[0, 255],   [255,255]],\n",
    "     [[255, 0],   [255,255]],\n",
    "     [[255, 255], [0,255]],\n",
    "     [[255, 255], [255,0]],  \n",
    "    ]\n",
    "y = [1 if img[1][0] <= 50 and img[1][1] <= 50 else 0 for img in X_img]\n",
    "print(y)\n",
    "\n",
    "# Gray scale from black (0) to white (255)\n",
    "norm = norm=matplotlib.colors.NoNorm(vmin=0, vmax=255, clip=True)\n",
    "\n",
    "fig = plt.figure(figsize=(10,10))\n",
    "for idx,img in enumerate(X_img):\n",
    "    if (idx > 15): break\n",
    "    arr = np.array(img)\n",
    "    ax = plt.subplot(5,4,idx+1)\n",
    "    plt.imshow(arr, cmap='gray', norm=norm)\n",
    "    if y[idx]:\n",
    "        ax.set_title(\"Y=1\", color='red')\n",
    "        ax.tick_params(axis='x', colors='red')\n",
    "        ax.tick_params(axis='y', colors='red')     \n",
    "fig.tight_layout()\n",
    "plt.show()"
   ]
  },
  {
   "cell_type": "markdown",
   "metadata": {},
   "source": [
    "### Training the neural network\n",
    "We train a very small neural network composed of 3 neurons: 2 at the input layer and one at the output.\n",
    "The technique works on larger networks, thought there is an exponential cost on the number of neurons (more on that later).  The technique does require [ReLU](https://en.wikipedia.org/wiki/Rectifier_(neural_networks)) as the activation function, this will be clearer when we discuss how to turn the neural network into a logic formula."
   ]
  },
  {
   "cell_type": "code",
   "execution_count": 3,
   "metadata": {},
   "outputs": [
    {
     "name": "stdout",
     "output_type": "stream",
     "text": [
      "MLPClassifier(activation='relu', alpha=1e-05, batch_size='auto', beta_1=0.9,\n",
      "       beta_2=0.999, early_stopping=False, epsilon=1e-08,\n",
      "       hidden_layer_sizes=(2,), learning_rate='constant',\n",
      "       learning_rate_init=0.001, max_iter=200, momentum=0.9,\n",
      "       nesterovs_momentum=True, power_t=0.5, random_state=1, shuffle=True,\n",
      "       solver='lbfgs', tol=0.0001, validation_fraction=0.1, verbose=False,\n",
      "       warm_start=False)\n",
      "Layers 3\n",
      "Coefs [array([[-0.16546093, -0.4507274 ],\n",
      "       [-0.99678884, -0.38952316],\n",
      "       [-0.7043807 , -0.81289063],\n",
      "       [-0.62560775, -1.2026514 ]]), array([[-0.22787063],\n",
      "       [ 1.75462163]])]\n",
      "Intercepts [array([-0.20646505,  6.43405911]), array([-1.38663425])]\n",
      "n inter 25\n",
      "loss 0.46913275221449097\n"
     ]
    }
   ],
   "source": [
    "# Defining the neural network\n",
    "hidden_layer_sizes = (2,)\n",
    "clf = MLPClassifier(\n",
    "            solver='lbfgs',    # solver used when training\n",
    "            alpha=1e-5,        # L2 penalty (regularization term) parameter\n",
    "            hidden_layer_sizes=hidden_layer_sizes,\n",
    "            random_state=1,    # If int, it's the seed of the random number gen.\n",
    "            activation=\"relu\") # activation function\n",
    "# Turing images into vector\n",
    "X = [[float(item) for item in np.concatenate(img)] for img in X_img]\n",
    "# Train the neural network\n",
    "clf.fit(X, y)\n",
    "print(clf)\n",
    "print(\"Layers\", clf.n_layers_)\n",
    "print(\"Coefs\", clf.coefs_)\n",
    "print(\"Intercepts\", clf.intercepts_)\n",
    "print(\"n inter\", clf.n_iter_)\n",
    "print(\"loss\", clf.loss_)"
   ]
  },
  {
   "cell_type": "code",
   "execution_count": 4,
   "metadata": {},
   "outputs": [
    {
     "name": "stdout",
     "output_type": "stream",
     "text": [
      "[4, 2, 1]\n"
     ]
    },
    {
     "data": {
      "image/png": "[encoded data removed]",
      "text/plain": [
       "<Figure size 864x864 with 1 Axes>"
      ]
     },
     "metadata": {},
     "output_type": "display_data"
    }
   ],
   "source": [
    "# Draw the neural network\n",
    "fig = plt.figure(figsize=(12, 12))\n",
    "ax = fig.gca()\n",
    "ax.axis('off')\n",
    "layer_sizes = get_layer_sizes(clf.coefs_, clf.intercepts_)\n",
    "print(layer_sizes)\n",
    "draw_neural_net(ax, .1, .9, .1, .9,\n",
    "    clf.coefs_,\n",
    "    clf.intercepts_,\n",
    "    clf.n_iter_,\n",
    "    clf.loss_)"
   ]
  },
  {
   "cell_type": "markdown",
   "metadata": {},
   "source": [
    "# From neural network to logic formula\n",
    "\n",
    "At this point, we can print the linear part of each neuron, that is, before activation function.  It is simply the multiplication of its inputs by its weights."
   ]
  },
  {
   "cell_type": "code",
   "execution_count": 6,
   "metadata": {},
   "outputs": [
    {
     "name": "stdout",
     "output_type": "stream",
     "text": [
      "Linear part of each neuron, that is, before activation function:\n",
      "Y0_0 = X0*-0.1655 + X1*-0.9968 + X2*-0.7044 + X3*-0.6256 + -0.2065\n",
      "Y0_1 = X0*-0.4507 + X1*-0.3895 + X2*-0.8129 + X3*-1.2027 + 6.4341\n",
      "Y1_0 = Y0_0*-0.2279 + Y0_1*1.7546 + -1.3866\n"
     ]
    }
   ],
   "source": [
    "formula_components = nn_to_formula_components(clf.coefs_, clf.intercepts_)\n",
    "print(\"Linear part of each neuron, that is, before activation function:\")\n",
    "for (var,val) in formula_components:\n",
    "    print(\"%s = %s\" % (var,val))"
   ]
  },
  {
   "cell_type": "markdown",
   "metadata": {},
   "source": [
    "The output of one neuron is the application of [ReLU](https://en.wikipedia.org/wiki/Rectifier_(neural_networks)) to the dot-product of the neuron's weights and the neuron's inputs.\n",
    "\n",
    "\n",
    "$ y = ReLU(\\mathbf{w} . \\mathbf{x}) = max(0, \\mathbf{w} . \\mathbf{x}) $\n",
    "\n",
    "The operation of the neuron can then be expressed as a logic formula:\n",
    "\n",
    "\\begin{align*}\n",
    "( y == \\mathbf{w} . \\mathbf{x} \\land y > 0) \\\\\n",
    "\\lor ( y == 0 \\land \\mathbf{w} . \\mathbf{x} \\leq 0)\n",
    "\\end{align*}\n",
    "\n",
    "There will be one such logical formula per neuron.\n",
    "The operation of the neural network is the conjunction of all these formulas.  **If we distribute the terms over the conjunctions, we will end up with a formula in DNF-form.**  Note that there will be 2<sup>n</sup> clauses in the DNF formula, where n are the number of neurons.  This is the exponential blow-up we mentioned earlier."
   ]
  },
  {
   "cell_type": "code",
   "execution_count": 7,
   "metadata": {},
   "outputs": [
    {
     "name": "stdout",
     "output_type": "stream",
     "text": [
      "DNF formula for neural network:\n",
      "Y0_0 == 0\n",
      "X0*-0.1655 + X1*-0.9968 + X2*-0.7044 + X3*-0.6256 + -0.2065 <= 0\n",
      "Y0_1 == 0\n",
      "X0*-0.4507 + X1*-0.3895 + X2*-0.8129 + X3*-1.2027 + 6.4341 <= 0\n",
      "Y1_0 == 0\n",
      "Y0_0*-0.2279 + Y0_1*1.7546 + -1.3866 <= 0\n",
      "\n",
      "Y0_0 == X0*-0.1655 + X1*-0.9968 + X2*-0.7044 + X3*-0.6256 + -0.2065\n",
      "Y0_0 > 0\n",
      "Y0_1 == 0\n",
      "X0*-0.4507 + X1*-0.3895 + X2*-0.8129 + X3*-1.2027 + 6.4341 <= 0\n",
      "Y1_0 == 0\n",
      "Y0_0*-0.2279 + Y0_1*1.7546 + -1.3866 <= 0\n",
      "\n",
      "Y0_0 == 0\n",
      "X0*-0.1655 + X1*-0.9968 + X2*-0.7044 + X3*-0.6256 + -0.2065 <= 0\n",
      "Y0_1 == X0*-0.4507 + X1*-0.3895 + X2*-0.8129 + X3*-1.2027 + 6.4341\n",
      "Y0_1 > 0\n",
      "Y1_0 == 0\n",
      "Y0_0*-0.2279 + Y0_1*1.7546 + -1.3866 <= 0\n",
      "\n",
      "Y0_0 == X0*-0.1655 + X1*-0.9968 + X2*-0.7044 + X3*-0.6256 + -0.2065\n",
      "Y0_0 > 0\n",
      "Y0_1 == X0*-0.4507 + X1*-0.3895 + X2*-0.8129 + X3*-1.2027 + 6.4341\n",
      "Y0_1 > 0\n",
      "Y1_0 == 0\n",
      "Y0_0*-0.2279 + Y0_1*1.7546 + -1.3866 <= 0\n",
      "\n",
      "Y0_0 == 0\n",
      "X0*-0.1655 + X1*-0.9968 + X2*-0.7044 + X3*-0.6256 + -0.2065 <= 0\n",
      "Y0_1 == 0\n",
      "X0*-0.4507 + X1*-0.3895 + X2*-0.8129 + X3*-1.2027 + 6.4341 <= 0\n",
      "Y1_0 == Y0_0*-0.2279 + Y0_1*1.7546 + -1.3866\n",
      "Y1_0 > 0\n",
      "\n",
      "Y0_0 == X0*-0.1655 + X1*-0.9968 + X2*-0.7044 + X3*-0.6256 + -0.2065\n",
      "Y0_0 > 0\n",
      "Y0_1 == 0\n",
      "X0*-0.4507 + X1*-0.3895 + X2*-0.8129 + X3*-1.2027 + 6.4341 <= 0\n",
      "Y1_0 == Y0_0*-0.2279 + Y0_1*1.7546 + -1.3866\n",
      "Y1_0 > 0\n",
      "\n",
      "Y0_0 == 0\n",
      "X0*-0.1655 + X1*-0.9968 + X2*-0.7044 + X3*-0.6256 + -0.2065 <= 0\n",
      "Y0_1 == X0*-0.4507 + X1*-0.3895 + X2*-0.8129 + X3*-1.2027 + 6.4341\n",
      "Y0_1 > 0\n",
      "Y1_0 == Y0_0*-0.2279 + Y0_1*1.7546 + -1.3866\n",
      "Y1_0 > 0\n",
      "\n",
      "Y0_0 == X0*-0.1655 + X1*-0.9968 + X2*-0.7044 + X3*-0.6256 + -0.2065\n",
      "Y0_0 > 0\n",
      "Y0_1 == X0*-0.4507 + X1*-0.3895 + X2*-0.8129 + X3*-1.2027 + 6.4341\n",
      "Y0_1 > 0\n",
      "Y1_0 == Y0_0*-0.2279 + Y0_1*1.7546 + -1.3866\n",
      "Y1_0 > 0\n",
      "\n"
     ]
    }
   ],
   "source": [
    "dnf_formula = formula_components_to_dnf(formula_components)\n",
    "print(\"DNF formula for neural network:\")\n",
    "for clause in dnf_formula:\n",
    "    for term in clause:\n",
    "        print(term)\n",
    "    print()"
   ]
  },
  {
   "cell_type": "markdown",
   "metadata": {},
   "source": [
    "# Crafting an adversarial image\n",
    "\n",
    "**(Observation 1) Each of the clauses in the DNF formula is disjoint from one another; meaning, only one of them is \"true\" at a time.**\n",
    "\n",
    "**(Observation 2) Each clause in the DNF formula covers a convex region of the input space.  This convex region is determined by a system of linear relations.**  \n",
    "\n",
    "We will use observation 1 and 2 to craft an adversarial image as follows:\n",
    "Starting with an image ```i``` such that ```n(i)=1```, meaning, the output of the neural network ```n``` on ```i``` is 1.\n",
    "For each convex region whose output is 0 check if the input image ```i+d``` is in its preimage, where ```d``` is a small delta.  Since each convex region is defined by a system of linear relations, the check can be performed using linear programming.\n",
    "\n",
    "### Starting image\n",
    "\n",
    "Let us start with the following 2x2 image that is classified as 1:"
   ]
  },
  {
   "cell_type": "code",
   "execution_count": 8,
   "metadata": {},
   "outputs": [
    {
     "name": "stdout",
     "output_type": "stream",
     "text": [
      "Vector  [0.0, 0.0, 0.0, 0.0]\n",
      "Pred.   [1]\n",
      "\n"
     ]
    },
    {
     "data": {
      "image/png": "[encoded data removed]",
      "text/plain": [
       "<Figure size 720x720 with 1 Axes>"
      ]
     },
     "metadata": {},
     "output_type": "display_data"
    }
   ],
   "source": [
    "ori_img = [[0,0],[0,0]]\n",
    "imgs = [ori_img]\n",
    "predictions = []\n",
    "for img in imgs:\n",
    "    vec = [float(item) for item in np.concatenate(img)]\n",
    "    pred = clf.predict([vec])\n",
    "    print(\"Vector \", vec)\n",
    "    print(\"Pred.  \", pred)\n",
    "    print()\n",
    "    predictions.append(pred)\n",
    "\n",
    "fig = plt.figure(figsize=(10,10))\n",
    "for idx,img in enumerate(imgs):\n",
    "    if (idx > 15): break\n",
    "    arr = np.array(img)\n",
    "    ax = plt.subplot(5,4,idx+1)\n",
    "    ax.set_title(predictions[idx])\n",
    "    plt.imshow(arr, cmap='gray', norm=norm)\n",
    "fig.tight_layout()\n",
    "plt.show()"
   ]
  },
  {
   "cell_type": "markdown",
   "metadata": {},
   "source": [
    "### Formulating the delta\n",
    "\n",
    "We will add a constraint saying that the new image that is the old image with a delta added to each of its pixels.  Since the original image was all black (all its pixel values are 0), the constraint looks like this:"
   ]
  },
  {
   "cell_type": "code",
   "execution_count": 9,
   "metadata": {},
   "outputs": [
    {
     "name": "stdout",
     "output_type": "stream",
     "text": [
      "['X0==0.000000 + D0', 'X1==0.000000 + D1', 'X2==0.000000 + D2', 'X3==0.000000 + D3']\n"
     ]
    }
   ],
   "source": [
    "in_img_str = [\"X%d==%f + D%d\" % (idx,val,idx) for idx,val in enumerate(np.concatenate(ori_img))]\n",
    "print(in_img_str)"
   ]
  },
  {
   "cell_type": "markdown",
   "metadata": {},
   "source": [
    "### Going over the DNF clauses\n",
    "There are 2<sup>n</sup> clauses in the DNF formula, where n are the number of neurons.  \n",
    "Half of them are true when the output neuron fires and the other half are true when it does not.  Our neural network has 3 neurons, so there are 8 clauses in its DNF formula, 4 of these clauses classify images with label 0.  Since we are starting with an image whose label is 1 and we are looking for an adversarial image similar to the starting image but whose classification is 0, we need to evaluate four of the DNF clauses.\n",
    "\n",
    "Let's start with this clause here:\n",
    "\n",
    "```\n",
    "Y0_0 == 0\n",
    "X0*-0.1655 + X1*-0.9968 + X2*-0.7044 + X3*-0.6256 + -0.2065 <= 0\n",
    "Y0_1 == X0*-0.4507 + X1*-0.3895 + X2*-0.8129 + X3*-1.2027 + 6.4341\n",
    "Y0_1 > 0\n",
    "Y0_0*-0.2279 + Y0_1*1.7546 + -1.3866 <= 0\n",
    "Y0_0 == 0\n",
    "```\n",
    "\n",
    "### Framing the problem in terms of linear programming\n",
    "A clause of the DNF representing our neural network is nothing more than a system of linear equalities and inequalities.\n",
    "We'll use the LP solver from [SciPi](https://docs.scipy.org/doc/scipy/reference/generated/scipy.optimize.linprog.html), which expects the problem to be framed as:\n",
    "\n",
    "```\n",
    "Minimize:     c^T * x\n",
    "\n",
    "Subject to:   A_ub * x <= b_ub\n",
    "              A_eq * x == b_eq\n",
    "```\n",
    "\n",
    "In our case, ```x``` is:\n",
    "\n",
    "```\n",
    "x = [X0, X1, X2, X3, Y0_0, Y0_1, Y1_0, D0, D1, D2, D3]\n",
    "```\n",
    "\n",
    "We want to minimize the sum of the deltas ``D0 + D1 + D2 + D3```\n",
    "subject to the linear constraints:\n",
    "\n",
    "```\n",
    "Y0_0 == 0\n",
    "Y0_1 == X0*-0.4507 + X1*-0.3895 + X2*-0.8129 + X3*-1.2027 + 6.4341\n",
    "Y0_0 == 0\n",
    "```\n",
    "and inequality constraints:\n",
    "```\n",
    "X0*-0.1655 + X1*-0.9968 + X2*-0.7044 + X3*-0.6256 + -0.2065 <= 0\n",
    "Y0_1 > 0\n",
    "Y0_0*-0.2279 + Y0_1*1.7546 + -1.3866 <= 0\n",
    "```\n",
    "\n",
    "We can also limit the ranges of pixel values to between 0 and 255, or put hard limits on the deltas:\n",
    "\n",
    "```\n",
    "0 <= X0, X1, X2, X3 <= 255\n",
    "-3 <= D0, D1, D2, D3 <= 3\n",
    "```\n",
    "\n",
    "This yields the following system, whose solution is presented below."
   ]
  },
  {
   "cell_type": "code",
   "execution_count": 10,
   "metadata": {},
   "outputs": [
    {
     "name": "stdout",
     "output_type": "stream",
     "text": [
      "Optimization terminated successfully.\n",
      "         Current function value: 5.504286    \n",
      "         Iterations: 8\n",
      "     fun: 5.504286397344922\n",
      " message: 'Optimization terminated successfully.'\n",
      "     nit: 8\n",
      "   slack: array([  3.84731934,   0.        , 255.        , 255.        ,\n",
      "       252.4957136 , 252.        ,   0.        ,   3.        ,\n",
      "         3.        ,   0.4957136 ,   0.        ])\n",
      "  status: 0\n",
      " success: True\n",
      "       x: array([0.        , 0.        , 2.5042864 , 3.        , 0.        ,\n",
      "       0.79026559, 0.        , 0.        , 0.        , 2.5042864 ,\n",
      "       3.        ])\n"
     ]
    }
   ],
   "source": [
    "from scipy.optimize import linprog\n",
    "\n",
    "c = [0, 0, 0, 0, 0, 0, 0, 1, 1, 1, 1]\n",
    "A_ub = [\n",
    "    [-0.1655, -0.9968, -0.7044, -0.6256, 0, 0, 0, 0, 0, 0, 0],\n",
    "    [0, 0, 0, 0, -0.2279, 1.7546, 0, 0, 0, 0, 0]\n",
    "]\n",
    "b_ub = [0.2065, 1.3866]\n",
    "A_eq = [\n",
    "    [0, 0, 0, 0, 1, 0, 0, 0, 0, 0, 0],\n",
    "    [0.4507, 0.3895, 0.8129, 1.2027, 0, 1, 0, 0, 0, 0, 0],\n",
    "    [1, 0, 0, 0, 0, 0, 0, -1, 0, 0, 0],\n",
    "    [0, 1, 0, 0, 0, 0, 0, 0, -1, 0, 0],\n",
    "    [0, 0, 1, 0, 0, 0, 0, 0, 0, -1, 0],\n",
    "    [0, 0, 0, 1, 0, 0, 0, 0, 0, 0, -1]\n",
    "]\n",
    "b_eq = [0, 6.4341, 0, 0, 0, 0]\n",
    "x_bounds = (0, 255)\n",
    "y_bounds = (None, None)\n",
    "d_bounds = (0, 3)\n",
    "bounds = [\n",
    "    x_bounds, x_bounds, x_bounds, x_bounds, # X0, X1, X2, X3\n",
    "    (None,None), # Y0_0, There is already an equation for Y0_0==0\n",
    "    (0,None),    # Y0_1, Y0_1 > 0 from system of linear equations\n",
    "    (None,0),    # Y1_0, Y1_0 < 0 for misclassification\n",
    "    d_bounds, d_bounds, d_bounds, d_bounds, # D0, D1, D2, D3\n",
    "]\n",
    "res = linprog(c, A_ub=A_ub, b_ub=b_ub, A_eq=A_eq, b_eq=b_eq, bounds=bounds, options={\"disp\": True})\n",
    "print(res)"
   ]
  },
  {
   "cell_type": "markdown",
   "metadata": {},
   "source": [
    "### Interpreting the solution\n",
    "The LP solver was able to find the minimal ```D0+D1+D2+D3``` that,\n",
    "when added to the image ```[0,0,0,0]``` causes its classification to change from ```1``` to ```0```.\n",
    "\n",
    "\n",
    "It found a ```D0+D1+D2+D3``` equal to ```5.504```, in other words,\n",
    "there is no smaller delta that can cause a misclassification.\n",
    "**This value gives us a notion of how robust the neural network is (given the starting input image).**\n",
    "\n",
    "The LP solver also gives us the adversarial image.\n",
    "By how the problem was formulated we have ```x=[X0,X1,X2,X3,...]```\n",
    "thus, we have the adversarial image in the first 4 elements of the ```x``` vector.  In our case, it is ```[0, 0, 2.504, 3]```.\n",
    "\n",
    "#### Checking the result\n",
    "\n",
    "Below we show how input images ```[0,0,0,0]``` to ```[0,0,2,2]``` are classified as ```1```,\n",
    "but that the input image ```[0,0,3,3]``` is classified as ```0```.\n",
    "\n",
    "We can think of ```[0,0,3,3]``` as an \"adversarial image\" to our original image ```[0,0,0,0]```.  It represents a discontinuity: a small delta on added to the original image causes a \"large\" delta on the output label."
   ]
  },
  {
   "cell_type": "code",
   "execution_count": 11,
   "metadata": {},
   "outputs": [
    {
     "name": "stdout",
     "output_type": "stream",
     "text": [
      "Vector  [0.0, 0.0, 0.0, 0.0]\n",
      "Label   1\n",
      "Pred.   [1]\n",
      "\n"
     ]
    },
    {
     "data": {
      "image/png": "[encoded data removed]",
      "text/plain": [
       "<Figure size 720x720 with 3 Axes>"
      ]
     },
     "metadata": {},
     "output_type": "display_data"
    }
   ],
   "source": [
    "for idx,vec in enumerate(X):\n",
    "    pred = clf.predict([vec])\n",
    "    if pred == 1:\n",
    "        print(\"Vector \", vec)\n",
    "        print(\"Label  \", y[idx])\n",
    "        print(\"Pred.  \", pred)\n",
    "        print()\n",
    "test_set = [\n",
    "    [[0,0],[0,0]],\n",
    "    [[0,0],[2,2]],\n",
    "    [[0,0],[3,3]],    \n",
    "]\n",
    "predictions = []\n",
    "for img in test_set:\n",
    "    vec = [float(item) for item in np.concatenate(img)]\n",
    "    pred = clf.predict([vec])\n",
    "    predictions.append(pred)\n",
    "\n",
    "fig = plt.figure(figsize=(10,10))\n",
    "for idx,img in enumerate(test_set):\n",
    "    if (idx > 15):\n",
    "        break\n",
    "    arr = np.array(img)\n",
    "    ax = plt.subplot(5,4,idx+1)\n",
    "    ax.set_title(\"%s\\n%s\" % (img, predictions[idx]))\n",
    "    plt.imshow(arr, cmap='gray', norm=norm)\n",
    "fig.tight_layout()\n",
    "plt.show()"
   ]
  },
  {
   "cell_type": "markdown",
   "metadata": {},
   "source": [
    "# Summary\n",
    "We walked through an example showing how to check the robustness of a neural network and how to systematically create adversarial examples in Python using linear programming.\n",
    "The worst case runtime for the technique is very poor, and would not scale well to complex neural networks.  However, with more engineering, we can achieve better performance on average.\n",
    "One idea, described [here](https://arxiv.org/pdf/1702.01135), is to extend simplex in order to handle ReLU."
   ]
  }
 ],
 "metadata": {
  "kernelspec": {
   "display_name": "Python 3",
   "language": "python",
   "name": "python3"
  },
  "language_info": {
   "codemirror_mode": {
    "name": "ipython",
    "version": 3
   },
   "file_extension": ".py",
   "mimetype": "text/x-python",
   "name": "python",
   "nbconvert_exporter": "python",
   "pygments_lexer": "ipython3",
   "version": "3.6.5"
  }
 },
 "nbformat": 4,
 "nbformat_minor": 2
}
